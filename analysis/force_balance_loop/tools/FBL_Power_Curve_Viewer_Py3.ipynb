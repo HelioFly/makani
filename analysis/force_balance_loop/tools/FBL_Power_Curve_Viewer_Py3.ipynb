{
  "nbformat": 4,
  "nbformat_minor": 0,
  "metadata": {
    "colab": {
      "name": "FBL_Power_Curve_Viewer_Py3",
      "views": {
        "TestView": {
          "cells": [
            {
              "id": "ubff5BT3Yev6",
              "layoutId": "230bb4ba-73a8-446e-b4f4-48bc983be5a1",
              "layoutPosition": []
            },
            {
              "id": "rOgtsu1X2Enq",
              "layoutId": "230bb4ba-73a8-446e-b4f4-48bc983be5a1",
              "layoutPosition": []
            },
            {
              "id": "rEdjTM9yZlnS",
              "layoutId": "230bb4ba-73a8-446e-b4f4-48bc983be5a1",
              "layoutPosition": []
            },
            {
              "id": "dNerheQaX6Lb",
              "layoutId": "230bb4ba-73a8-446e-b4f4-48bc983be5a1",
              "layoutPosition": []
            },
            {
              "id": "NQsrcC92bGBk",
              "layoutId": "230bb4ba-73a8-446e-b4f4-48bc983be5a1",
              "layoutPosition": []
            },
            {
              "id": "DauPEbE0bL3w",
              "layoutId": "230bb4ba-73a8-446e-b4f4-48bc983be5a1",
              "layoutPosition": []
            },
            {
              "id": "io1iRzV1bbRI",
              "layoutId": "230bb4ba-73a8-446e-b4f4-48bc983be5a1",
              "layoutPosition": []
            },
            {
              "id": "AqW7lTTebb4j",
              "layoutId": "230bb4ba-73a8-446e-b4f4-48bc983be5a1",
              "layoutPosition": []
            },
            {
              "id": "h-9txT05cBTG",
              "layoutId": "230bb4ba-73a8-446e-b4f4-48bc983be5a1",
              "layoutPosition": []
            },
            {
              "id": "ECMaHN7zb1Kv",
              "layoutId": "230bb4ba-73a8-446e-b4f4-48bc983be5a1",
              "layoutPosition": []
            },
            {
              "id": "gcvefPu3cz8N",
              "layoutId": "230bb4ba-73a8-446e-b4f4-48bc983be5a1",
              "layoutPosition": []
            },
            {
              "id": "2X9wwApidGWX",
              "layoutId": "230bb4ba-73a8-446e-b4f4-48bc983be5a1",
              "layoutPosition": []
            },
            {
              "id": "JWj25TWted0R",
              "layoutId": "230bb4ba-73a8-446e-b4f4-48bc983be5a1",
              "layoutPosition": []
            },
            {
              "id": "LU0Ka6gvfiR5",
              "layoutId": "230bb4ba-73a8-446e-b4f4-48bc983be5a1",
              "layoutPosition": []
            },
            {
              "id": "KdGt_PVjuq0N",
              "layoutId": "230bb4ba-73a8-446e-b4f4-48bc983be5a1",
              "layoutPosition": []
            },
            {
              "id": "caP3VZO7gPV0",
              "layoutId": "230bb4ba-73a8-446e-b4f4-48bc983be5a1",
              "layoutPosition": []
            },
            {
              "id": "8rzVxrF4s6de",
              "layoutId": "230bb4ba-73a8-446e-b4f4-48bc983be5a1",
              "layoutPosition": []
            }
          ],
          "hide_code": false,
          "layouts": [
            {
              "id": "230bb4ba-73a8-446e-b4f4-48bc983be5a1",
              "type": "list",
              "options": {}
            }
          ]
        }
      },
      "provenance": [],
      "collapsed_sections": [],
      "last_runtime": {
        "build_target": "//googlex/makani/colab:colab_notebook",
        "kind": "shared"
      },
      "toc_visible": true
    },
    "kernelspec": {
      "name": "python3",
      "display_name": "Python 3"
    }
  },
  "cells": [
    {
      "cell_type": "markdown",
      "metadata": {
        "id": "ubff5BT3Yev6"
      },
      "source": [
        "FBL power curve viewer\n",
        "=====\n",
        "\n",
        "This colab is just for viewing the json configs and plots that were exported by an FBL run to the shared drive folder, [Makani_FBL/PowerCurves](https://drive.google.com/corp/drive/folders/1c0aHBj8S0jukpC3h44n_t2tTV7XEFD-L)\n",
        "\n",
        "Note, these json configs do not store the full information neeeded to recreate a run, as they can only store the json serializable parameters and not, for example, methods of the kite config used. Please reference the original notebook used to do the run and any notes in the kite description.\n",
        "\n",
        "## Instructions\n",
        "\n",
        "This is just set up as an external colab that you don't need a local runtime for. Make sure the address bar is pointed toward \"colab.sandbox.google.com/...\", then connect to a hosted runtime, run the import steps and authenticate it, select which folder has the curve you want to run and which basename within that folder (the cells that have 'User-input' in the title), and then run the remaining fields.\n",
        "\n",
        "To lock a view, probably best to just make a copy of this notebook with the target power curve loaded and run..."
      ]
    },
    {
      "cell_type": "markdown",
      "metadata": {
        "colab_type": "toc",
        "id": "rOgtsu1X2Enq"
      },
      "source": [
        ">[FBL power curve viewer](#scrollTo=ubff5BT3Yev6)\n",
        "\n",
        ">>[Instructions](#scrollTo=ubff5BT3Yev6)\n",
        "\n",
        ">[Setup and import](#scrollTo=rEdjTM9yZlnS)\n",
        "\n",
        ">[View available options and select power curve to view](#scrollTo=io1iRzV1bbRI)\n",
        "\n",
        ">[View the selected power curve](#scrollTo=2X9wwApidGWX)\n",
        "\n"
      ]
    },
    {
      "cell_type": "markdown",
      "metadata": {
        "id": "rEdjTM9yZlnS"
      },
      "source": [
        "# Setup and import "
      ]
    },
    {
      "cell_type": "code",
      "metadata": {
        "id": "dNerheQaX6Lb"
      },
      "source": [
        "#@title Imports\n",
        "\n",
        "from collections import OrderedDict\n",
        "import copy\n",
        "import json\n",
        "import os\n",
        "from pprint import pprint as pp\n",
        "from IPython import display as dp\n",
        "\n",
        "import cv2\n",
        "from google.colab.patches import cv2_imshow\n",
        "\n",
        "# from matplotlib import pyplot as plt\n",
        "# from matplotlib import image as mpimg\n",
        "# from IPython.display import HTML\n",
        "# from IPython.display import Image\n",
        "\n",
        "from google.colab import drive\n"
      ],
      "execution_count": null,
      "outputs": []
    },
    {
      "cell_type": "code",
      "metadata": {
        "cellView": "form",
        "id": "NQsrcC92bGBk"
      },
      "source": [
        "#@title Authorize drive and mount\n",
        "drive.mount('/gdrive')\n"
      ],
      "execution_count": null,
      "outputs": []
    },
    {
      "cell_type": "code",
      "metadata": {
        "cellView": "form",
        "id": "DauPEbE0bL3w"
      },
      "source": [
        "#@title Set base folder paths and other settings\n",
        "\n",
        "plot_order = [\n",
        "              'power_curve.png',\n",
        "              'paths_locations.png',\n",
        "              'path_loop_data.png',\n",
        "              'loop_data.png',\n",
        "              'angular_rates.png',\n",
        "              'pose_data.png',\n",
        "              'paths.png',\n",
        "              'values.png',\n",
        "              'constraints.png',\n",
        "]\n",
        "\n",
        "power_curve_parent_path = '/gdrive/Shared drives/Makani_FBL/PowerCurves'\n",
        "\n",
        "print('Using the parent path:')\n",
        "print(power_curve_parent_path)\n",
        "\n",
        "\n",
        "# Extract descriptions of config variables from doc string\n",
        "# kpc_doc = inspect.getdoc(makani_FBL.KitePowerCurve)\n",
        "# exec('if 1:\\n'+source[source.find(def_strs[0]):source.find(def_strs[1])])\n",
        "# config = kpc_doc[kpc_doc.find('config:'):kpc_doc.find('Kwargs:')]\n",
        "config = \"      <aero_model>:\\n        An aero model for the kite (no tether) must be provided.\\n        options are:\\n          aero_coeff_from_alpha_beta:\\n            as above, but includes aero side lift coefficient, cY\\n          body_coeff_from_alpha_beta:\\n            as above, but body coefficients including cy.\\n            note that cY is aero coefficient, and cy is body.\\n      eta_shaft_to_pad:\\n        a function of (power_shaft) that returns a total efficiency for\\n        the system from shaft to padmount\\n      m_kite:\\n        mass of the kite in kg\\n      m_tether:\\n        mass of the tether in kg\\n      power_shaft_max:\\n        maximum net (all motors) shaft power limit, in watts\\n      s:\\n        kite reference wing area, in m^2\\n      l_tether:\\n        length of the tether from GS attach point to the wing\\n        (including bridle length)\\n      shaft_power_from_drag_power:\\n        a function of (rho, v_a, rotor_force) that returns a dictionary\\n        a negative force is generation\\n\\n        Required items:\\n          power_shaft:\\n            shaft power, in W\\n      alpha_min:\\n        Minimum alpha, applied as a constraint.\\n      alpha_max:\\n        Maximum alpha, applied as a constraint.\\n      cL_max:\\n        Maximum coefficient of lift, applied as a constraint.\\n      cL_offset:\\n        Additional aero coefficient offset to be applied to the kite\\n      cY_offset:\\n        Additional lateral lift coefficient offset to be applied to the kite\\n      cD_offset:\\n        Additional drag coefficient offset to be applied to the kite\\n      cD_eff_tether:\\n        Effective drag coefficient of the tether at the kite, referenced to\\n        wing area.\\n      tension_max:\\n        Maximum operating tension, in Newtons. Applied as a constraint.\\n      tension_min:\\n        Min operating tension, in Newtons. Applied as a constraint.\\n      incl_max:\\n        Maximum inclination for any individual pose. Applied as a constraint.\\n      h_min:\\n        Minimum height AGL for any individual pose. Applied as a constraint.\\n      roll_min:\\n        Minimum roll angle, tether to kite.\\n        Positive roll is in to nominal clockwise looking downwind circle.\\n        Ie: rolling to kite's left.\\n      roll_max:\\n        Maximum roll angle, tether to kite.\\n        See roll_min for details.\\n      v_a_min:\\n        Minimum allowable airspeed for the kite, in m/s.\\n      v_a_max:\\n        Maximum allowable airspeed for the kite, in m/s\\n      gs_position:\\n        Array like position vector specifying the tether attach point in\\n        ground coordinates. If not specified, will default to [0,0,0]\\n      v_w_h_hub_cut_out:\\n        Wind speed at virtual hub height for cut out.\\n        Will truncate v_w range in KitePowerCurve if exceeded, and is\\n        used to clean up power curve in KitePowerCurve object\\n        and provide ref lines in plotting tools.\\n      v_w_h_hub_cut_in:\\n        Wind speed at virtual hub height for cut in.\\n        Used to clean up power curve in KitePowerCurve object and\\n        provide ref lines in plotting tools.\\n      v_a_max:\\n        maximum kite airspeed, in m/s\\n      rotor_area:\\n        Total rotor area (all rotors) in m^2.\\n        Required if 'shaft_power_from_drag_power' does not provide\\n        constraints, in which case local Betz limit is calculated and applied\\n        as a simple constraint.\\n        See 'shaft_power_from_drag_power' item for details.\\n\\n        Entirely ignored if 'shaft_power_from_drag_power' function in config\\n        provides constraints, as it's assumed the rotor function is doing\\n        its own, more detailed modeling.\\n\\n\"\n",
        "\n",
        "kpc_doc_dict = OrderedDict()\n",
        "\n",
        "for line in six.ensure_str(config).split('\\n'):\n",
        "  if ':' in line:\n",
        "    key = six.ensure_str(line).split(':')[0].lstrip()\n",
        "    desc = ''\n",
        "  else:\n",
        "    desc += six.ensure_str(line.lstrip())+' '\n",
        "    kpc_doc_dict[key] = desc\n",
        "\n",
        "# for k, v in kpc_doc_dict.items():\n",
        "#   print '{}: {}'.format(k,v)\n"
      ],
      "execution_count": null,
      "outputs": []
    },
    {
      "cell_type": "markdown",
      "metadata": {
        "id": "io1iRzV1bbRI"
      },
      "source": [
        "# View available options and select the power curve to view"
      ]
    },
    {
      "cell_type": "code",
      "metadata": {
        "id": "AqW7lTTebb4j"
      },
      "source": [
        "#@title View available studies\n",
        "available_studies = os.listdir(power_curve_parent_path)\n",
        "print('Avaliable studies:')\n",
        "pp(available_studies)\n"
      ],
      "execution_count": null,
      "outputs": []
    },
    {
      "cell_type": "code",
      "metadata": {
        "id": "h-9txT05cBTG"
      },
      "source": [
        "#@title User-input: Manually set the target study folder\n",
        "\n",
        "# study = '20190717_clean_stackup'\n",
        "# study = '20190722_Fig8s_splines'\n",
        "# study = '20190729_pencil_specs'\n",
        "# study = '20190805_opt_sensitivities'\n",
        "study = '20190829_test_c_lmn_limits'\n",
        "\n",
        "print('Using the study:')\n",
        "print(study)\n"
      ],
      "execution_count": null,
      "outputs": []
    },
    {
      "cell_type": "code",
      "metadata": {
        "cellView": "form",
        "id": "ECMaHN7zb1Kv"
      },
      "source": [
        "#@title View available power curves\n",
        "available_pcs = sorted([pc[:-5] for pc in os.listdir(os.path.join(power_curve_parent_path, study)) if six.ensure_str(pc).endswith('.json')])\n",
        "print('Avaliable power curves:')\n",
        "pp(available_pcs)\n"
      ],
      "execution_count": null,
      "outputs": []
    },
    {
      "cell_type": "code",
      "metadata": {
        "id": "gcvefPu3cz8N"
      },
      "source": [
        "#@title User-input: Manually set the target power curve\n",
        "\n",
        "# pc_name = 'targetHover_harmonic'\n",
        "# pc_name = 'targetHover2_harmonic'\n",
        "# pc_name = 'targetHoverSmallSymBridle8_fig8_8spline20pose_smallsteps_lowtol'\n",
        "# pc_name = 'targetHoverSmallSymBridle8_fig8_12spline24pose_smallsteps_lowtol'\n",
        "# pc_name = 'targetHover2_harmonicreexport'\n",
        "# pc_name = available_pcs[1]\n",
        "pc_name = 'BigM600_r02a_v04-circle-90m'\n",
        "pc_name = 'BigM600_r02a_v05-circle-90m'\n",
        "# pc_name = 'base_circle'\n",
        "# pc_name = 'Ellipticalspec01r01clean_tightertol_18pos_6spline'\n",
        "# pc_name = 'Ellipticalspec01r01clean_tighttol'\n",
        "\n",
        "print('Viewing the power curve:')\n",
        "print(pc_name)\n"
      ],
      "execution_count": null,
      "outputs": []
    },
    {
      "cell_type": "markdown",
      "metadata": {
        "id": "2X9wwApidGWX"
      },
      "source": [
        "# View the selected power curve"
      ]
    },
    {
      "cell_type": "code",
      "metadata": {
        "id": "JWj25TWted0R"
      },
      "source": [
        "#@title Load json\n",
        "pc_params = json.loads(open(os.path.join(power_curve_parent_path, study, six.ensure_str(pc_name) + '.json')).read())\n",
        "\n",
        "print('Loaded power curve:')\n",
        "print('    ' + six.ensure_str(pc_name)) \n",
        "\n",
        "print() \n",
        "if 'pc_desc' in pc_params:\n",
        "  print(pc_params['pc_desc'])\n",
        "else:\n",
        "  print('No power curve description available.')\n",
        "if 'export_datetime' in pc_params:\n",
        "  print('PowerCurve data exported at:')\n",
        "  print(pc_params['export_datetime'])\n",
        "\n",
        "print()\n",
        "print('Available keys:')\n",
        "pp(list(pc_params.keys()))\n",
        "\n",
        "all_images = [f for f in os.listdir(os.path.join(power_curve_parent_path, study)) if (f.startswith(pc_name) and six.ensure_str(f).endswith('.png'))]\n",
        "# print \n",
        "# print 'available images:'\n",
        "# pp((all_images))\n",
        "\n",
        "possible_images = [six.ensure_str(pc_name)+'_'+six.ensure_str(plot) for plot in plot_order]\n",
        "# print 'preferred image order:'\n",
        "# pp((possible_images))\n",
        "\n",
        "images = [image for image in possible_images if image in all_images] + [image for image in all_images if image not in possible_images]\n",
        "print()\n",
        "print('Images to plot:')\n",
        "pp((images))\n"
      ],
      "execution_count": null,
      "outputs": []
    },
    {
      "cell_type": "code",
      "metadata": {
        "cellView": "form",
        "id": "LU0Ka6gvfiR5"
      },
      "source": [
        "#@title Kite config\n",
        "#@markdown note: method specifics cannot be stored in a json, so may be hidden from what is below.\n",
        "\n",
        "\n",
        "\n",
        "\"\"\"config: a dictionary that specifies a kite configuration\n",
        "      Required items:\n",
        "        <aero_model>:\n",
        "          An aero model for the kite (no tether) must be provided.\n",
        "          options are:\n",
        "            aero_coeff_from_alpha_beta:\n",
        "              as above, but includes aero side lift coefficient, cY\n",
        "            body_coeff_from_alpha_beta:\n",
        "              as above, but body coefficients including cy.\n",
        "              note that cY is aero coefficient, and cy is body.\n",
        "        eta_shaft_to_pad:\n",
        "          a function of (power_shaft) that returns a total efficiency for\n",
        "          the system from shaft to padmount\n",
        "        m_kite:\n",
        "          mass of the kite in kg\n",
        "        m_tether':\n",
        "          mass of the tether in kg\n",
        "        power_shaft_max:\n",
        "          maximum net (all motors) shaft power limit, in watts\n",
        "        s:\n",
        "          kite reference wing area, in m^2\n",
        "        l_tether:\n",
        "          length of the tether from GS attach point to the wing\n",
        "          (including bridle length)\n",
        "        shaft_power_from_drag_power:\n",
        "          a function of (rho, v_a, rotor_force) that returns a dictionary\n",
        "          a negative force is generation\n",
        "\n",
        "          Required items:\n",
        "            power_shaft:\n",
        "              shaft power, in W\n",
        "          Optional items:\n",
        "            anything desired to be appended to state, such as performance\n",
        "            coefficients, status messages, additional constraints (see code\n",
        "            for format)\n",
        "            things appended to state are accessible by all plotting tools, etc\n",
        "\n",
        "            Important notes:\n",
        "              If constraints are provided it's assumed the function is doing its\n",
        "              own stall and/or Betz checks. If none are provided, a Betz limit\n",
        "              constraint is applied to the pose, and 'rotor_area' (total) is\n",
        "              required to be in the config.\n",
        "      Optional items:\n",
        "        alpha_min:\n",
        "          Minimum alpha, applied as a constraint.\n",
        "        alpha_max:\n",
        "          Maximum alpha, applied as a constraint.\n",
        "        cL_max:\n",
        "          Maximum coefficient of lift, applied as a constraint.\n",
        "        cL_offset:\n",
        "          Additional aero coefficient offset to be applied to the kite\n",
        "        cY_offset:\n",
        "          Additional lateral lift coefficient offset to be applied to the kite\n",
        "        cD_offset:\n",
        "          Additional drag coefficient offset to be applied to the kite\n",
        "        cD_eff_tether:\n",
        "          Effective drag coefficient of the tether at the kite, referenced to\n",
        "          wing area.\n",
        "        tension_max:\n",
        "          Maximum operating tension, in Newtons. Applied as a constraint.\n",
        "        tension_min:\n",
        "          Min operating tension, in Newtons. Applied as a constraint.\n",
        "        incl_max:\n",
        "          Maximum inclination for any individual pose. Applied as a constraint.\n",
        "        h_min:\n",
        "          Minimum height AGL for any individual pose. Applied as a constraint.\n",
        "        roll_min:\n",
        "          Minimum roll angle, tether to kite.\n",
        "          Positive roll is in to nominal clockwise looking downwind circle.\n",
        "          Ie: rolling to kite's left.\n",
        "        roll_max:\n",
        "          Maximum roll angle, tether to kite.\n",
        "          See roll_min for details.\n",
        "        v_a_min:\n",
        "          Minimum allowable airspeed for the kite, in m/s.\n",
        "        v_a_max:\n",
        "          Maximum allowable airspeed for the kite, in m/s\n",
        "        gs_position:\n",
        "          Array like position vector specifying the tether attach point in\n",
        "          ground coordinates. If not specified, will default to [0,0,0]\n",
        "        v_w_h_hub_cut_out:\n",
        "          Wind speed at virtual hub height for cut out.\n",
        "          Will truncate v_w range in KitePowerCurve if exceeded, and is\n",
        "          used to clean up power curve in KitePowerCurve object\n",
        "          and provide ref lines in plotting tools.\n",
        "        v_w_h_hub_cut_in:\n",
        "          Wind speed at virtual hub height for cut in.\n",
        "          Used to clean up power curve in KitePowerCurve object and\n",
        "          provide ref lines in plotting tools.\n",
        "        v_a_max:\n",
        "          maximum kite airspeed, in m/s\n",
        "        rotor_area:\n",
        "          Total rotor area (all rotors) in m^2.\n",
        "          Required if 'shaft_power_from_drag_power' does not provide\n",
        "          constraints, in which case local Betz limit is calculated and applied\n",
        "          as a simple constraint.\n",
        "          See 'shaft_power_from_drag_power' item for details.\n",
        "\n",
        "          Entirely ignored if 'shaft_power_from_drag_power' function in config\n",
        "          provides constraints, as it's assumed the rotor function is doing\n",
        "          its own, more detailed modeling.\"\"\"\n",
        "\n",
        "from __future__ import division\n",
        "\n",
        "from __future__ import absolute_import\n",
        "\n",
        "from __future__ import print_function\n",
        "\n",
        "import six\n",
        "\n",
        "\n",
        "config = copy.deepcopy(pc_params['config'])\n",
        "description = config.pop('description')\n",
        "print(pc_name)\n",
        "print()\n",
        "print(description)\n",
        "print()\n",
        "\n",
        "for k, v in kpc_doc_dict.items():\n",
        "  if k in config:\n",
        "    print('{}: {}'.format(k, v))\n",
        "    print('    {}'.format(config.pop(k)))\n",
        "  # else:\n",
        "  #   print 'no {}'.format(k)\n",
        "\n",
        "print() \n",
        "print('remaining parameters:')\n",
        "pp(config)\n"
      ],
      "execution_count": null,
      "outputs": []
    },
    {
      "cell_type": "code",
      "metadata": {
        "cellView": "form",
        "id": "KdGt_PVjuq0N"
      },
      "source": [
        "#@title PowerCurve solve summary\n",
        "\n",
        "print()\n",
        "print((pc_params['solve_summary']))\n",
        "\n",
        "print()\n",
        "print('optimization settings:')\n",
        "pp(pc_params['opt_params'])\n"
      ],
      "execution_count": null,
      "outputs": []
    },
    {
      "cell_type": "code",
      "metadata": {
        "cellView": "form",
        "id": "caP3VZO7gPV0"
      },
      "source": [
        "#@title Plots\n",
        "#@markdown You can view this cell's outputs in fullscreen through the 3-dot menu. Also useful, right-click an image and 'Open image in new tab'.\n",
        "\n",
        "for image in images:\n",
        "  image_path = os.path.join(power_curve_parent_path, study, image)\n",
        "  img = cv2.imread(image_path, cv2.IMREAD_UNCHANGED)\n",
        "  cv2_imshow(img)\n"
      ],
      "execution_count": null,
      "outputs": []
    },
    {
      "cell_type": "code",
      "metadata": {
        "cellView": "form",
        "id": "8rzVxrF4s6de"
      },
      "source": [
        "#@title More details\n",
        "\n",
        "print('Wind resource:')\n",
        "pp(pc_params['resource'])\n",
        "\n",
        "if 'recent_stackup' in pc_params:\n",
        "  print()\n",
        "  print('recent commit stackup')\n",
        "  # pp(pc_params['commit'])\n",
        "  pp(pc_params['recent_stackup'])\n",
        "else:\n",
        "  print('no commit stackup available')\n"
      ],
      "execution_count": null,
      "outputs": []
    },
    {
      "cell_type": "markdown",
      "metadata": {
        "id": "au8GJOVBFp-q"
      },
      "source": [
        "# View data"
      ]
    },
    {
      "cell_type": "code",
      "metadata": {
        "cellView": "form",
        "id": "X5_oyBYR6bOa"
      },
      "source": [
        "#@title Explore available data\n",
        "\n",
        "print('Main data available in \"loop_params\"')\n",
        "pp(list(pc_params['loop_params'].keys()))\n",
        "for k, v in pc_params['loop_params'].items():\n",
        "  print('  keys in {}:'.format(k))\n",
        "  pp(list(v[0].keys()))\n",
        "\n",
        "print()\n",
        "ii = 5\n",
        "print('for example, looping at wind speed of {} m/s'.format(pc_params['wind_params']['v_ws_at_h_ref'][ii]))\n",
        "pp(pc_params['loop_params']['pose_states_param'][ii])\n",
        "\n",
        "print()\n",
        "print('for all loops:')\n",
        "pp(pc_params['loop_params']) \n"
      ],
      "execution_count": null,
      "outputs": []
    }
  ]
}